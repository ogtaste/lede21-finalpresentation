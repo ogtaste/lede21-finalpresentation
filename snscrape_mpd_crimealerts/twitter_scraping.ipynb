{
 "cells": [
  {
   "cell_type": "code",
   "execution_count": 2,
   "id": "fbb9b6f2",
   "metadata": {},
   "outputs": [],
   "source": [
    "import pandas as pd\n",
    "import snscrape.modules.twitter as sntwitter\n",
    "import itertools"
   ]
  },
  {
   "cell_type": "code",
   "execution_count": 13,
   "id": "f870837b",
   "metadata": {},
   "outputs": [],
   "source": [
    "# STOLEN CODE !\n",
    "\n",
    "# our search term, using syntax for Twitter's Advanced Search\n",
    "search = '\"dcpolicedept\"'\n",
    "\n",
    "# the scraped tweets, this is a generator\n",
    "scraped_tweets = sntwitter.TwitterSearchScraper(search).get_items()\n",
    "\n",
    "# slicing the generator to keep only the first 100 tweets\n",
    "sliced_scraped_tweets = itertools.islice(scraped_tweets, 5000)\n",
    "\n",
    "# convert to a DataFrame and keep only relevant columns\n",
    "df1 = pd.DataFrame(sliced_scraped_tweets)[['date', 'content', 'user', 'id', 'sourceUrl', 'url', 'replyCount', 'likeCount', 'media']]"
   ]
  },
  {
   "cell_type": "code",
   "execution_count": 16,
   "id": "1b11faf4",
   "metadata": {},
   "outputs": [],
   "source": [
    "# This part I did by myself.\n",
    "\n",
    "df1\n",
    "df1.to_csv('C:\\\\Users\\mark3\\Desktop\\dcpolicedept_mentions.csv')"
   ]
  },
  {
   "cell_type": "code",
   "execution_count": 18,
   "id": "56acf268",
   "metadata": {},
   "outputs": [],
   "source": [
    "# importing libraries and packages\n",
    "import snscrape.modules.twitter as sntwitter\n",
    "import pandas\n",
    "\n",
    "# Creating list to append tweet data \n",
    "tweets_list1 = []\n",
    "\n",
    "# Using TwitterSearchScraper to scrape data and append tweets to list\n",
    "for i,tweet in enumerate(sntwitter.TwitterSearchScraper('from:dcpolicedept').get_items()): #declare a username \n",
    "    if i > 12000: #number of tweets you want to scrape\n",
    "        break\n",
    "    tweets_list1.append([tweet.date, tweet.id, tweet.content, tweet.user.username, tweet.replyCount, tweet.retweetCount, tweet.likeCount, tweet.media, tweet.user, tweet.retweetedTweet, tweet.outlinks]) \n",
    "\n",
    "#declare the attributes to be returned\n",
    "    \n",
    "# Creating a dataframe from the tweets list above \n",
    "tweets_df1 = pd.DataFrame(tweets_list1, columns=['Datetime', 'Tweet Id', 'Text', 'Username', 'Reply Count', 'Retweet Count', 'Like Count', 'Media Content', 'User Info', 'Retweeted Tweet', 'Outlinks'])\n",
    "tweets_df1.to_csv('C:\\\\Users\\mark3\\Desktop\\dcpolicedept_last6000.csv')"
   ]
  }
 ],
 "metadata": {
  "kernelspec": {
   "display_name": "Python 3",
   "language": "python",
   "name": "python3"
  },
  "language_info": {
   "codemirror_mode": {
    "name": "ipython",
    "version": 3
   },
   "file_extension": ".py",
   "mimetype": "text/x-python",
   "name": "python",
   "nbconvert_exporter": "python",
   "pygments_lexer": "ipython3",
   "version": "3.9.6"
  }
 },
 "nbformat": 4,
 "nbformat_minor": 5
}
