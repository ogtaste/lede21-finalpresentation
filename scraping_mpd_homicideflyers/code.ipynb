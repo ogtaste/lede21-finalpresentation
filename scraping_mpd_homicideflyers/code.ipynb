{
 "cells": [
  {
   "cell_type": "code",
   "execution_count": 9,
   "id": "1177571c",
   "metadata": {},
   "outputs": [],
   "source": [
    "import requests\n",
    "from bs4 import BeautifulSoup"
   ]
  },
  {
   "cell_type": "code",
   "execution_count": 10,
   "id": "aa7d53a3",
   "metadata": {},
   "outputs": [],
   "source": [
    "mpd_publications_url = \"https://mpdc.dc.gov/publications?after%5Bvalue%5D%5Bdate%5D=&before%5Bvalue%5D%5Bdate%5D=&keys=homicide&type=All&sort_by=field_date_value&sort_order=DESC\"\n",
    "response = requests.get(mpd_publications_url)\n",
    "doc = BeautifulSoup(response.text, \"html.parser\")"
   ]
  },
  {
   "cell_type": "code",
   "execution_count": 11,
   "id": "2333eb7e",
   "metadata": {},
   "outputs": [],
   "source": [
    "releases = doc.select('.field-content')"
   ]
  },
  {
   "cell_type": "code",
   "execution_count": 12,
   "id": "b99d84fb",
   "metadata": {},
   "outputs": [],
   "source": [
    "# Homicides as of July 29, 2021\n",
    "\n",
    "link_p1 = \"https://mpdc.dc.gov/publications?after[value][date]=&before[value][date]=&keys=homicide&type=All&sort_by=field_date_value&sort_order=DESC\"\n",
    "link_p2 = \"https://mpdc.dc.gov/publications?after[value][date]=&before[value][date]=&keys=homicide&type=All&sort_by=field_date_value&sort_order=DESC&page=1\"\n",
    "link_p3 = \"https://mpdc.dc.gov/publications?after[value][date]=&before[value][date]=&keys=homicide&type=All&sort_by=field_date_value&sort_order=DESC&page=2\"\n",
    "link_p4 = \"https://mpdc.dc.gov/publications?after[value][date]=&before[value][date]=&keys=homicide&type=All&sort_by=field_date_value&sort_order=DESC&page=3\"\n",
    "link_p5 = \"https://mpdc.dc.gov/publications?after[value][date]=&before[value][date]=&keys=homicide&type=All&sort_by=field_date_value&sort_order=DESC&page=4\"\n",
    "link_p6 = \"https://mpdc.dc.gov/publications?after[value][date]=&before[value][date]=&keys=homicide&type=All&sort_by=field_date_value&sort_order=DESC&page=5\"\n",
    "link_p7 = \"https://mpdc.dc.gov/publications?after[value][date]=&before[value][date]=&keys=homicide&type=All&sort_by=field_date_value&sort_order=DESC&page=6\"\n",
    "\n",
    "links = [link_p1, link_p2, link_p3, link_p4, link_p5, link_p6, link_p7]"
   ]
  },
  {
   "cell_type": "code",
   "execution_count": 14,
   "id": "13409fd7",
   "metadata": {},
   "outputs": [],
   "source": [
    "import os\n",
    "import requests\n",
    "from urllib.parse import urljoin\n",
    "from bs4 import BeautifulSoup\n",
    "\n",
    "url = link_p7\n",
    "\n",
    "# Couldn't figure out the for loop; just ran program 7 times for 7 links\n",
    "folder_location = r'C:\\Users\\mark3\\Desktop\\results'\n",
    "\n",
    "response = requests.get(url)\n",
    "soup= BeautifulSoup(response.text, \"html.parser\")     \n",
    "for link in soup.select(\"a[href$='.pdf']\"):\n",
    "    #Name the pdf files using the last portion of each link which are unique in this case\n",
    "    filename = os.path.join(folder_location,link['href'].split('/')[-1])\n",
    "    with open(filename, 'wb') as f:\n",
    "        f.write(requests.get(urljoin(url,link['href'])).content)"
   ]
  },
  {
   "cell_type": "code",
   "execution_count": null,
   "id": "25e79358",
   "metadata": {},
   "outputs": [],
   "source": []
  }
 ],
 "metadata": {
  "kernelspec": {
   "display_name": "Python 3",
   "language": "python",
   "name": "python3"
  },
  "language_info": {
   "codemirror_mode": {
    "name": "ipython",
    "version": 3
   },
   "file_extension": ".py",
   "mimetype": "text/x-python",
   "name": "python",
   "nbconvert_exporter": "python",
   "pygments_lexer": "ipython3",
   "version": "3.9.6"
  }
 },
 "nbformat": 4,
 "nbformat_minor": 5
}
